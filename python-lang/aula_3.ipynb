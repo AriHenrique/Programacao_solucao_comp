{
 "cells": [
  {
   "cell_type": "code",
   "execution_count": 1,
   "metadata": {
    "collapsed": false
   },
   "outputs": [],
   "source": [
    "import math as mt"
   ]
  },
  {
   "cell_type": "markdown",
   "metadata": {
    "collapsed": false
   },
   "source": [
    "# Aula 03-03-2023"
   ]
  },
  {
   "cell_type": "markdown",
   "metadata": {
    "collapsed": false
   },
   "source": [
    "1) Faça um programa que mostre a mensagem \"Alo mundo\" na tela."
   ]
  },
  {
   "cell_type": "code",
   "execution_count": 2,
   "metadata": {
    "collapsed": false
   },
   "outputs": [
    {
     "name": "stdout",
     "output_type": "stream",
     "text": [
      "Hello World\n"
     ]
    }
   ],
   "source": [
    "print(\"Hello World\")\n",
    "''"
   ]
  },
  {
   "cell_type": "markdown",
   "metadata": {
    "collapsed": false
   },
   "source": [
    "2) Faça um programa que peça um  número e então mostre a mensagem \"O número informado foi [numero]"
   ]
  },
  {
   "cell_type": "code",
   "execution_count": 10,
   "metadata": {
    "collapsed": false
   },
   "outputs": [
    {
     "name": "stdout",
     "output_type": "stream",
     "text": [
      "Fim\n"
     ]
    }
   ],
   "source": [
    "while True:\n",
    "    try:\n",
    "        number = float(input(\"Digite um número\"))\n",
    "        print(f'O número digitado foi {number}')\n",
    "        break\n",
    "    except ValueError:\n",
    "        loop = input(\"Infomer apenas números. Deseja Continuar?(Y/n)\").lower()\n",
    "        if loop[0] == \"y\" or loop == \"s\":\n",
    "            continue\n",
    "        else:\n",
    "            print(\"Fim\")\n",
    "            break"
   ]
  },
  {
   "cell_type": "markdown",
   "metadata": {
    "collapsed": false
   },
   "source": [
    "3) Faça um programa que peça dois números e imprima a soma."
   ]
  },
  {
   "cell_type": "code",
   "execution_count": 20,
   "metadata": {
    "collapsed": false
   },
   "outputs": [
    {
     "name": "stdout",
     "output_type": "stream",
     "text": [
      "A soma dos dois números é 26.10\n"
     ]
    }
   ],
   "source": [
    "while True:\n",
    "    try:\n",
    "\n",
    "        number_1 = float(input(\"Informe o primeiro número\").replace(',','.'))\n",
    "        number_2 = float(input(\"Agora informe o segundo\").replace(',','.'))\n",
    "\n",
    "        print(f'A soma dos dois números é {number_1 + number_2:.2f}')\n",
    "        break\n",
    "    except ValueError:\n",
    "        loop = input(\"Infomer apenas números. Deseja Continuar?(Y/n)\").lower()\n",
    "        if loop[0] == \"y\" or loop == \"s\":\n",
    "            continue\n",
    "        else:\n",
    "            print(\"Fim\")\n",
    "            break"
   ]
  },
  {
   "cell_type": "markdown",
   "metadata": {
    "collapsed": false
   },
   "source": [
    "4) Faça um programa que peça as 4 notas bimestrais e mostre a média"
   ]
  },
  {
   "cell_type": "code",
   "execution_count": 21,
   "metadata": {
    "collapsed": false
   },
   "outputs": [
    {
     "name": "stdout",
     "output_type": "stream",
     "text": [
      "A média dos 4 bimestres é 21.38\n"
     ]
    }
   ],
   "source": [
    "while True:\n",
    "    try:\n",
    "        nota_1 = float(input(\"Infomer a nota do seu primeiro semestre: \").replace(',','.'))\n",
    "        nota_2 = float(input(\"Infomer a nota do seu primeiro semestre: \").replace(',','.'))\n",
    "        nota_3 = float(input(\"Infomer a nota do seu primeiro semestre: \").replace(',','.'))\n",
    "        nota_4 = float(input(\"Infomer a nota do seu primeiro semestre: \").replace(',','.'))\n",
    "\n",
    "        print(f'A média dos 4 bimestres é {(nota_1+nota_2+nota_3+nota_4)/4:.2f}')\n",
    "        break\n",
    "    except ValueError:\n",
    "            loop = input(\"Infomer apenas números. Deseja Continuar?(Y/n)\").lower()\n",
    "            if loop[0] == \"y\" or loop == \"s\":\n",
    "                continue\n",
    "            else:\n",
    "                print(\"Fim\")\n",
    "                break"
   ]
  },
  {
   "cell_type": "markdown",
   "metadata": {
    "collapsed": false
   },
   "source": [
    "5) Faça um programa que converta metros para centímetros"
   ]
  },
  {
   "cell_type": "code",
   "execution_count": 24,
   "metadata": {
    "collapsed": false
   },
   "outputs": [
    {
     "name": "stdout",
     "output_type": "stream",
     "text": [
      "3300.00 cm\n"
     ]
    }
   ],
   "source": [
    "while True:\n",
    "    try:\n",
    "\n",
    "        convert = float(input(\"Informe quantos metros deseja converter em cm: \").replace(',','.'))\n",
    "        print(f'{convert*100:.2f} cm')\n",
    "        break\n",
    "    except ValueError:\n",
    "        loop = input(\"Infomer apenas números. Deseja Continuar?(Y/n)\").lower()\n",
    "        if loop[0] == \"y\" or loop == \"s\":\n",
    "            continue\n",
    "        else:\n",
    "            print(\"Fim\")\n",
    "            break"
   ]
  },
  {
   "cell_type": "markdown",
   "metadata": {
    "collapsed": false
   },
   "source": [
    "6) Faça um programa que peça o raio de um círculo, calcule e mostre sua área."
   ]
  },
  {
   "cell_type": "code",
   "execution_count": 4,
   "metadata": {
    "collapsed": false
   },
   "outputs": [
    {
     "name": "stdout",
     "output_type": "stream",
     "text": [
      "A área deste círculo é 50.27\n"
     ]
    }
   ],
   "source": [
    "while True:\n",
    "    try:\n",
    "        raio = float(input(\"Informe o raio: \").replace(\",\",\".\"))\n",
    "        print(f'A área deste círculo é {mt.pi*raio**2:.2f}')\n",
    "        break\n",
    "    except ValueError:\n",
    "        loop = input(\"Infomer apenas números. Deseja Continuar?(Y/n)\").lower()\n",
    "        if loop[0] == \"y\" or loop == \"s\":\n",
    "            continue\n",
    "        else:\n",
    "            print(\"Fim\")\n",
    "            break"
   ]
  },
  {
   "attachments": {},
   "cell_type": "markdown",
   "metadata": {
    "collapsed": false
   },
   "source": [
    "7) Faça um programa que calcule a área de um quadrado, em seguida mostre o dobro desta área para o usuário"
   ]
  },
  {
   "cell_type": "code",
   "execution_count": 1,
   "metadata": {},
   "outputs": [
    {
     "name": "stdout",
     "output_type": "stream",
     "text": [
      "800.0\n"
     ]
    }
   ],
   "source": [
    "area = float(input(\"Informe o valor de um dos lados do QUADRADO: \"))\n",
    "total = area**2*2\n",
    "print(total)"
   ]
  },
  {
   "attachments": {},
   "cell_type": "markdown",
   "metadata": {},
   "source": [
    "8) Faça um programa que pergunte quanto você ganha por hora e o número de horas trabalhadas no mês. Calcule e mostre o total do seu salário no referido mês."
   ]
  },
  {
   "cell_type": "code",
   "execution_count": null,
   "metadata": {},
   "outputs": [],
   "source": []
  }
 ],
 "metadata": {
  "kernelspec": {
   "display_name": "Python 3",
   "language": "python",
   "name": "python3"
  },
  "language_info": {
   "codemirror_mode": {
    "name": "ipython",
    "version": 3
   },
   "file_extension": ".py",
   "mimetype": "text/x-python",
   "name": "python",
   "nbconvert_exporter": "python",
   "pygments_lexer": "ipython3",
   "version": "3.9.12"
  }
 },
 "nbformat": 4,
 "nbformat_minor": 0
}
